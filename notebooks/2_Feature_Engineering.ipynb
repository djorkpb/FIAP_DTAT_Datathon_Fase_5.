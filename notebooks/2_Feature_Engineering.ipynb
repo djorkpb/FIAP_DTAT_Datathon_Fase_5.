{
 "cells": [
  {
   "cell_type": "markdown",
   "metadata": {},
   "source": [
    "## Etapa 2: Engenharia de Features (Avançada)\n",
    "\n",
    "Neste notebook, vamos carregar os dados consolidados e criar as features (sinais) que o nosso modelo de IA irá usar para aprender a prever a compatibilidade entre um candidato e uma vaga."
   ]
  },
  {
   "cell_type": "code",
   "execution_count": 1,
   "metadata": {},
   "outputs": [
    {
     "name": "stdout",
     "output_type": "stream",
     "text": [
      "--- ETAPA 2: ENGENHARIA DE FEATURES (AVANÇADA) ---\n"
     ]
    }
   ],
   "source": [
    "import pandas as pd\n",
    "from sklearn.feature_extraction.text import TfidfVectorizer\n",
    "from sklearn.metrics.pairwise import cosine_similarity\n",
    "import numpy as np\n",
    "import re\n",
    "import json\n",
    "\n",
    "print(\"--- ETAPA 2: ENGENHARIA DE FEATURES (AVANÇADA) ---\")"
   ]
  },
  {
   "cell_type": "markdown",
   "metadata": {},
   "source": [
    "### Bloco 1: Carregar os dados consolidados do JSON"
   ]
  },
  {
   "cell_type": "code",
   "execution_count": 2,
   "metadata": {},
   "outputs": [
    {
     "name": "stdout",
     "output_type": "stream",
     "text": [
      "\n",
      "Carregando 'dados_consolidados.json'...\n",
      "--- Lista de Nomes de Colunas Reais no DataFrame ---\n",
      "['id_vaga', 'prospect.nome', 'prospect.codigo', 'prospect.situacao_candidado', 'prospect.data_candidatura', 'prospect.ultima_atualizacao', 'prospect.comentario', 'prospect.recrutador', 'informacoes_basicas.data_requicisao', 'informacoes_basicas.limite_esperado_para_contratacao', 'informacoes_basicas.titulo_vaga', 'informacoes_basicas.vaga_sap', 'informacoes_basicas.cliente', 'informacoes_basicas.solicitante_cliente', 'informacoes_basicas.empresa_divisao', 'informacoes_basicas.requisitante', 'informacoes_basicas.analista_responsavel', 'informacoes_basicas.tipo_contratacao', 'informacoes_basicas.prazo_contratacao', 'informacoes_basicas.objetivo_vaga', 'informacoes_basicas.prioridade_vaga', 'informacoes_basicas.origem_vaga', 'informacoes_basicas.superior_imediato', 'informacoes_basicas.nome', 'informacoes_basicas.telefone', 'informacoes_basicas.data_inicial', 'informacoes_basicas.data_final', 'informacoes_basicas.nome_substituto', 'perfil_vaga.pais', 'perfil_vaga.estado', 'perfil_vaga.cidade', 'perfil_vaga.bairro', 'perfil_vaga.regiao', 'perfil_vaga.local_trabalho', 'perfil_vaga.vaga_especifica_para_pcd', 'perfil_vaga.faixa_etaria', 'perfil_vaga.horario_trabalho', 'perfil_vaga.nivel profissional', 'perfil_vaga.nivel_academico', 'perfil_vaga.nivel_ingles', 'perfil_vaga.nivel_espanhol', 'perfil_vaga.outro_idioma', 'perfil_vaga.areas_atuacao', 'perfil_vaga.principais_atividades', 'perfil_vaga.competencia_tecnicas_e_comportamentais', 'perfil_vaga.demais_observacoes', 'perfil_vaga.viagens_requeridas', 'perfil_vaga.equipamentos_necessarios', 'perfil_vaga.habilidades_comportamentais_necessarias', 'beneficios.valor_venda', 'beneficios.valor_compra_1', 'beneficios.valor_compra_2', 'id_candidato', 'cv_pt', 'cv_en', 'infos_basicas.telefone_recado', 'infos_basicas.telefone', 'infos_basicas.objetivo_profissional', 'infos_basicas.data_criacao', 'infos_basicas.inserido_por', 'infos_basicas.email', 'infos_basicas.local', 'infos_basicas.sabendo_de_nos_por', 'infos_basicas.data_atualizacao', 'infos_basicas.codigo_profissional', 'infos_basicas.nome', 'informacoes_pessoais.data_aceite', 'informacoes_pessoais.nome', 'informacoes_pessoais.cpf', 'informacoes_pessoais.fonte_indicacao', 'informacoes_pessoais.email', 'informacoes_pessoais.email_secundario', 'informacoes_pessoais.data_nascimento', 'informacoes_pessoais.telefone_celular', 'informacoes_pessoais.telefone_recado', 'informacoes_pessoais.sexo', 'informacoes_pessoais.estado_civil', 'informacoes_pessoais.pcd', 'informacoes_pessoais.endereco', 'informacoes_pessoais.skype', 'informacoes_pessoais.url_linkedin', 'informacoes_pessoais.facebook', 'informacoes_pessoais.download_cv', 'informacoes_profissionais.titulo_profissional', 'informacoes_profissionais.area_atuacao', 'informacoes_profissionais.conhecimentos_tecnicos', 'informacoes_profissionais.certificacoes', 'informacoes_profissionais.outras_certificacoes', 'informacoes_profissionais.remuneracao', 'informacoes_profissionais.nivel_profissional', 'informacoes_profissionais.qualificacoes', 'informacoes_profissionais.experiencias', 'formacao_e_idiomas.nivel_academico', 'formacao_e_idiomas.nivel_ingles', 'formacao_e_idiomas.nivel_espanhol', 'formacao_e_idiomas.outro_idioma', 'formacao_e_idiomas.instituicao_ensino_superior', 'formacao_e_idiomas.cursos', 'formacao_e_idiomas.ano_conclusao', 'formacao_e_idiomas.outro_curso', 'cargo_atual.id_ibrati', 'cargo_atual.email_corporativo', 'cargo_atual.cargo_atual', 'cargo_atual.projeto_atual', 'cargo_atual.cliente', 'cargo_atual.unidade', 'cargo_atual.data_admissao', 'cargo_atual.data_ultima_promocao', 'cargo_atual.nome_superior_imediato', 'cargo_atual.email_superior_imediato', 'match']\n",
      "Dados carregados com sucesso.\n"
     ]
    }
   ],
   "source": [
    "print(\"\\nCarregando 'dados_consolidados.json'...\")\n",
    "try:\n",
    "    df = pd.read_json('../data/processed/dados_consolidados.json', lines=True)\n",
    "    # Insira esta célula para ver os nomes exatos das colunas\n",
    "    print(\"--- Lista de Nomes de Colunas Reais no DataFrame ---\")\n",
    "    print(df.columns.tolist())\n",
    "    print(\"Dados carregados com sucesso.\")\n",
    "except FileNotFoundError:\n",
    "    print(\"Erro: O arquivo 'dados_consolidados.json' não foi encontrado. Execute a Etapa 1 primeiro.\")\n",
    "    exit()"
   ]
  },
  {
   "cell_type": "markdown",
   "metadata": {},
   "source": [
    "### Bloco 2: Preparação dos Textos"
   ]
  },
  {
   "cell_type": "code",
   "execution_count": 3,
   "metadata": {},
   "outputs": [
    {
     "name": "stdout",
     "output_type": "stream",
     "text": [
      "\n",
      "Limpando e combinando campos de texto...\n",
      "Campos de texto combinados e normalizados.\n"
     ]
    }
   ],
   "source": [
    "if df is not None:\n",
    "    print(\"\\nLimpando e combinando campos de texto...\")\n",
    "    \n",
    "    # Usando os nomes de coluna padronizados com prefixo\n",
    "    cols_vaga = [\n",
    "        'informacoes_basicas.titulo_vaga', \n",
    "        'perfil_vaga.principais_atividades', \n",
    "        'perfil_vaga.competencia_tecnicas_e_comportamentais'\n",
    "    ]\n",
    "    cols_candidato = [\n",
    "        'cv_pt', \n",
    "        'informacoes_profissionais.conhecimentos_tecnicos', \n",
    "        'informacoes_profissionais.area_atuacao'\n",
    "    ]\n",
    "    \n",
    "    for col in cols_vaga + cols_candidato:\n",
    "        # Garante que a coluna exista antes de tentar preencher NAs\n",
    "        if col in df.columns:\n",
    "            df[col] = df[col].fillna('')\n",
    "\n",
    "    df['texto_vaga'] = df[cols_vaga].agg(' '.join, axis=1).str.lower()\n",
    "    df['texto_candidato'] = df[cols_candidato].agg(' '.join, axis=1).str.lower()\n",
    "    print(\"Campos de texto combinados e normalizados.\")"
   ]
  },
  {
   "cell_type": "markdown",
   "metadata": {},
   "source": [
    "### Bloco 3: Criação das Features"
   ]
  },
  {
   "cell_type": "code",
   "execution_count": 4,
   "metadata": {},
   "outputs": [
    {
     "name": "stdout",
     "output_type": "stream",
     "text": [
      "\n",
      "1. Calculando a similaridade de texto com TF-IDF...\n",
      "   Feature 'similaridade_texto' criada.\n",
      "\n",
      "2. Criando features de compatibilidade de Idioma e SAP...\n",
      "   Features de idioma e SAP criadas.\n",
      "\n",
      "3. Criando feature de Anos de Experiência...\n",
      "   Feature 'match_anos_experiencia' criada.\n",
      "\n",
      "4. Criando feature de Score de Habilidades Técnicas...\n",
      "   Feature 'skills_match_score' criada.\n",
      "\n",
      "5. Criando feature de Nível Profissional...\n",
      "   Feature 'match_nivel_profissional' criada.\n"
     ]
    }
   ],
   "source": [
    "if df is not None:\n",
    "    # Feature 1: Similaridade de Texto (NLP)\n",
    "    print(\"\\n1. Calculando a similaridade de texto com TF-IDF...\")\n",
    "    vectorizer = TfidfVectorizer()\n",
    "    corpus = df['texto_vaga'].tolist() + df['texto_candidato'].tolist()\n",
    "    tfidf_matrix = vectorizer.fit_transform(corpus)\n",
    "    vaga_vectors = tfidf_matrix[0:len(df)]\n",
    "    candidato_vectors = tfidf_matrix[len(df):]\n",
    "    df['similaridade_texto'] = [cosine_similarity(vaga_vectors[i], candidato_vectors[i])[0][0] for i in range(len(df))]\n",
    "    print(\"   Feature 'similaridade_texto' criada.\")\n",
    "\n",
    "    # Features de Compatibilidade de Idioma e SAP\n",
    "    print(\"\\n2. Criando features de compatibilidade de Idioma e SAP...\")\n",
    "    mapa_niveis = {'Nenhum': 0, 'Básico': 1, 'Intermediário': 2, 'Técnico': 3, 'Avançado': 4, 'Fluente': 5}\n",
    "    \n",
    "    df['vaga_nivel_ingles_num'] = df['perfil_vaga.nivel_ingles'].fillna('Nenhum').apply(lambda x: mapa_niveis.get(x, 0))\n",
    "    df['candidato_nivel_ingles_num'] = df['formacao_e_idiomas.nivel_ingles'].fillna('Nenhum').apply(lambda x: mapa_niveis.get(x, 0))\n",
    "    df['match_nivel_ingles'] = (df['candidato_nivel_ingles_num'] >= df['vaga_nivel_ingles_num']).astype(int)\n",
    "    \n",
    "    df['vaga_nivel_espanhol_num'] = df['perfil_vaga.nivel_espanhol'].fillna('Nenhum').apply(lambda x: mapa_niveis.get(x, 0))\n",
    "    df['candidato_nivel_espanhol_num'] = df['formacao_e_idiomas.nivel_espanhol'].fillna('Nenhum').apply(lambda x: mapa_niveis.get(x, 0))\n",
    "    df['match_nivel_espanhol'] = (df['candidato_nivel_espanhol_num'] >= df['vaga_nivel_espanhol_num']).astype(int)\n",
    "    \n",
    "    df['vaga_requer_sap'] = (df['informacoes_basicas.vaga_sap'] == 'Sim').astype(int)\n",
    "    df['candidato_tem_sap'] = df['texto_candidato'].str.contains('sap', flags=re.IGNORECASE, regex=True).astype(int)\n",
    "    df['match_sap'] = ((df['vaga_requer_sap'] == 0) | ((df['vaga_requer_sap'] == 1) & (df['candidato_tem_sap'] == 1))).astype(int)\n",
    "    print(\"   Features de idioma e SAP criadas.\")\n",
    "\n",
    "    # Feature: Match de Anos de Experiência\n",
    "    print(\"\\n3. Criando feature de Anos de Experiência...\")\n",
    "    def extract_years_experience(text):\n",
    "        if not isinstance(text, str): return 0\n",
    "        matches = re.findall(r'(\\d{1,2})\\s+an[o|os]', text, re.IGNORECASE)\n",
    "        years = [int(year) for year in matches]\n",
    "        return max(years) if years else 0\n",
    "\n",
    "    df['vaga_anos_exp'] = df['texto_vaga'].apply(extract_years_experience)\n",
    "    df['candidato_anos_exp'] = df['texto_candidato'].apply(extract_years_experience)\n",
    "    df['match_anos_experiencia'] = (df['candidato_anos_exp'] >= df['vaga_anos_exp']).astype(int)\n",
    "    print(\"   Feature 'match_anos_experiencia' criada.\")\n",
    "\n",
    "    # Feature: Score de Habilidades Técnicas\n",
    "    print(\"\\n4. Criando feature de Score de Habilidades Técnicas...\")\n",
    "    SKILLS_LIST = ['java', 'python', 'sql', 'oracle', 'aws', 'azure', 'react', 'angular', 'scrum', 'agile', 'devops', 'api', 'typescript', 'javascript', 'docker', 'kubernetes']\n",
    "    def calculate_skills_match(vaga_text, candidate_text):\n",
    "        required_skills = {skill for skill in SKILLS_LIST if skill in vaga_text}\n",
    "        if not required_skills:\n",
    "            return 1.0 \n",
    "        matched_skills = sum(1 for skill in required_skills if skill in candidate_text)\n",
    "        return matched_skills / len(required_skills)\n",
    "\n",
    "    df['skills_match_score'] = df.apply(lambda row: calculate_skills_match(row['texto_vaga'], row['texto_candidato']), axis=1)\n",
    "    print(\"   Feature 'skills_match_score' criada.\")\n",
    "\n",
    "    # Feature: Match de Nível Profissional\n",
    "    print(\"\\n5. Criando feature de Nível Profissional...\")\n",
    "    mapa_senioridade = {'júnior': 1, 'junior': 1, 'pleno': 2, 'sênior': 3, 'senior': 3, 'especialista': 4}\n",
    "    def get_seniority_level(text):\n",
    "        if not isinstance(text, str): return 0\n",
    "        text = text.lower()\n",
    "        for level, value in mapa_senioridade.items():\n",
    "            if level in text:\n",
    "                return value\n",
    "        return 0\n",
    "\n",
    "    df['vaga_nivel_prof'] = df['perfil_vaga.nivel profissional'].fillna('').apply(get_seniority_level)\n",
    "    df['candidato_nivel_prof'] = df['informacoes_profissionais.nivel_profissional'].fillna('').apply(get_seniority_level)\n",
    "    df['match_nivel_profissional'] = (df['candidato_nivel_prof'] >= df['vaga_nivel_prof']).astype(int)\n",
    "    print(\"   Feature 'match_nivel_profissional' criada.\")"
   ]
  },
  {
   "cell_type": "markdown",
   "metadata": {},
   "source": [
    "### Bloco Final: Seleção e Salvamento"
   ]
  },
  {
   "cell_type": "code",
   "execution_count": 5,
   "metadata": {},
   "outputs": [
    {
     "name": "stdout",
     "output_type": "stream",
     "text": [
      "\n",
      "Selecionando features finais e salvando o resultado...\n",
      "\n",
      "--- DataFrame com Novas Features ---\n"
     ]
    },
    {
     "data": {
      "text/html": [
       "<div>\n",
       "<style scoped>\n",
       "    .dataframe tbody tr th:only-of-type {\n",
       "        vertical-align: middle;\n",
       "    }\n",
       "\n",
       "    .dataframe tbody tr th {\n",
       "        vertical-align: top;\n",
       "    }\n",
       "\n",
       "    .dataframe thead th {\n",
       "        text-align: right;\n",
       "    }\n",
       "</style>\n",
       "<table border=\"1\" class=\"dataframe\">\n",
       "  <thead>\n",
       "    <tr style=\"text-align: right;\">\n",
       "      <th></th>\n",
       "      <th>id_vaga</th>\n",
       "      <th>prospect.codigo</th>\n",
       "      <th>match</th>\n",
       "      <th>similaridade_texto</th>\n",
       "      <th>match_nivel_ingles</th>\n",
       "      <th>match_nivel_espanhol</th>\n",
       "      <th>match_sap</th>\n",
       "      <th>match_anos_experiencia</th>\n",
       "      <th>skills_match_score</th>\n",
       "      <th>match_nivel_profissional</th>\n",
       "    </tr>\n",
       "  </thead>\n",
       "  <tbody>\n",
       "    <tr>\n",
       "      <th>0</th>\n",
       "      <td>4530</td>\n",
       "      <td>25529</td>\n",
       "      <td>0</td>\n",
       "      <td>0.141520</td>\n",
       "      <td>1</td>\n",
       "      <td>1</td>\n",
       "      <td>1</td>\n",
       "      <td>1</td>\n",
       "      <td>1.0</td>\n",
       "      <td>0</td>\n",
       "    </tr>\n",
       "    <tr>\n",
       "      <th>1</th>\n",
       "      <td>4531</td>\n",
       "      <td>25364</td>\n",
       "      <td>1</td>\n",
       "      <td>0.257011</td>\n",
       "      <td>1</td>\n",
       "      <td>1</td>\n",
       "      <td>1</td>\n",
       "      <td>1</td>\n",
       "      <td>1.0</td>\n",
       "      <td>0</td>\n",
       "    </tr>\n",
       "    <tr>\n",
       "      <th>2</th>\n",
       "      <td>4534</td>\n",
       "      <td>26361</td>\n",
       "      <td>0</td>\n",
       "      <td>0.147204</td>\n",
       "      <td>0</td>\n",
       "      <td>1</td>\n",
       "      <td>1</td>\n",
       "      <td>0</td>\n",
       "      <td>1.0</td>\n",
       "      <td>0</td>\n",
       "    </tr>\n",
       "    <tr>\n",
       "      <th>3</th>\n",
       "      <td>4534</td>\n",
       "      <td>26205</td>\n",
       "      <td>0</td>\n",
       "      <td>0.148577</td>\n",
       "      <td>0</td>\n",
       "      <td>1</td>\n",
       "      <td>1</td>\n",
       "      <td>1</td>\n",
       "      <td>1.0</td>\n",
       "      <td>0</td>\n",
       "    </tr>\n",
       "    <tr>\n",
       "      <th>4</th>\n",
       "      <td>4534</td>\n",
       "      <td>26003</td>\n",
       "      <td>0</td>\n",
       "      <td>0.192539</td>\n",
       "      <td>0</td>\n",
       "      <td>1</td>\n",
       "      <td>1</td>\n",
       "      <td>1</td>\n",
       "      <td>1.0</td>\n",
       "      <td>0</td>\n",
       "    </tr>\n",
       "  </tbody>\n",
       "</table>\n",
       "</div>"
      ],
      "text/plain": [
       "   id_vaga  prospect.codigo  match  similaridade_texto  match_nivel_ingles  \\\n",
       "0     4530            25529      0            0.141520                   1   \n",
       "1     4531            25364      1            0.257011                   1   \n",
       "2     4534            26361      0            0.147204                   0   \n",
       "3     4534            26205      0            0.148577                   0   \n",
       "4     4534            26003      0            0.192539                   0   \n",
       "\n",
       "   match_nivel_espanhol  match_sap  match_anos_experiencia  \\\n",
       "0                     1          1                       1   \n",
       "1                     1          1                       1   \n",
       "2                     1          1                       0   \n",
       "3                     1          1                       1   \n",
       "4                     1          1                       1   \n",
       "\n",
       "   skills_match_score  match_nivel_profissional  \n",
       "0                 1.0                         0  \n",
       "1                 1.0                         0  \n",
       "2                 1.0                         0  \n",
       "3                 1.0                         0  \n",
       "4                 1.0                         0  "
      ]
     },
     "metadata": {},
     "output_type": "display_data"
    },
    {
     "name": "stdout",
     "output_type": "stream",
     "text": [
      "\n",
      "Dimensões do DataFrame de features: (13846, 10)\n",
      "\n",
      "Arquivo 'dados_com_features.json' salvo com sucesso!\n",
      "\n",
      "--- ETAPA 2 CONCLUÍDA ---\n"
     ]
    }
   ],
   "source": [
    "if df is not None:\n",
    "    print(\"\\nSelecionando features finais e salvando o resultado...\")\n",
    "    features_selecionadas = [\n",
    "        'id_vaga',\n",
    "        'prospect.codigo',\n",
    "        'match',\n",
    "        'similaridade_texto',\n",
    "        'match_nivel_ingles',\n",
    "        'match_nivel_espanhol',\n",
    "        'match_sap',\n",
    "        'match_anos_experiencia',\n",
    "        'skills_match_score',\n",
    "        'match_nivel_profissional'\n",
    "    ]\n",
    "    df_features = df[features_selecionadas]\n",
    "\n",
    "    df_features.to_json('../data/processed/dados_com_features.json', orient='records', lines=True, force_ascii=False)\n",
    "    print(\"\\n--- DataFrame com Novas Features ---\")\n",
    "    display(df_features.head())\n",
    "    print(f\"\\nDimensões do DataFrame de features: {df_features.shape}\")\n",
    "    print(\"\\nArquivo 'dados_com_features.json' salvo com sucesso!\")\n",
    "    print(\"\\n--- ETAPA 2 CONCLUÍDA ---\")"
   ]
  }
 ],
 "metadata": {
  "kernelspec": {
   "display_name": "base",
   "language": "python",
   "name": "python3"
  },
  "language_info": {
   "codemirror_mode": {
    "name": "ipython",
    "version": 3
   },
   "file_extension": ".py",
   "mimetype": "text/x-python",
   "name": "python",
   "nbconvert_exporter": "python",
   "pygments_lexer": "ipython3",
   "version": "3.12.7"
  }
 },
 "nbformat": 4,
 "nbformat_minor": 2
}
