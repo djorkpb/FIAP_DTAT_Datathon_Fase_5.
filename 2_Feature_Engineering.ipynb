{
 "cells": [
  {
   "cell_type": "markdown",
   "metadata": {},
   "source": [
    "## Etapa 2: Engenharia de Features (Avançada)\n",
    "\n",
    "Neste notebook, vamos carregar os dados consolidados e criar as features (sinais) que o nosso modelo de IA irá usar para aprender a prever a compatibilidade entre um candidato e uma vaga."
   ]
  },
  {
   "cell_type": "code",
   "execution_count": 7,
   "metadata": {},
   "outputs": [],
   "source": [
    "import pandas as pd\n",
    "from sklearn.feature_extraction.text import TfidfVectorizer\n",
    "from sklearn.metrics.pairwise import cosine_similarity\n",
    "import numpy as np\n",
    "import re\n",
    "import json"
   ]
  },
  {
   "cell_type": "markdown",
   "metadata": {},
   "source": [
    "### Bloco 1: Carregar os dados consolidados do JSON"
   ]
  },
  {
   "cell_type": "code",
   "execution_count": 8,
   "metadata": {},
   "outputs": [],
   "source": [
    "df = pd.read_json('../data/processed/dados_consolidados.json', lines=True)"
   ]
  },
  {
   "cell_type": "markdown",
   "metadata": {},
   "source": [
    "### Bloco 2: Preparação dos Textos"
   ]
  },
  {
   "cell_type": "code",
   "execution_count": 9,
   "metadata": {},
   "outputs": [],
   "source": [
    "cols_vaga = [\n",
    "    'informacoes_basicas.titulo_vaga', \n",
    "    'perfil_vaga.principais_atividades', \n",
    "    'perfil_vaga.competencia_tecnicas_e_comportamentais'\n",
    "]\n",
    "cols_candidato = [\n",
    "    'cv_pt', \n",
    "    'informacoes_profissionais.conhecimentos_tecnicos', \n",
    "    'informacoes_profissionais.area_atuacao'\n",
    "]\n",
    "\n",
    "for col in cols_vaga + cols_candidato:\n",
    "    if col in df.columns:\n",
    "        df[col] = df[col].fillna('')\n",
    "\n",
    "df['texto_vaga'] = df[cols_vaga].agg(' '.join, axis=1).str.lower()\n",
    "df['texto_candidato'] = df[cols_candidato].agg(' '.join, axis=1).str.lower()"
   ]
  },
  {
   "cell_type": "markdown",
   "metadata": {},
   "source": [
    "### Bloco 3: Criação das Features"
   ]
  },
  {
   "cell_type": "code",
   "execution_count": 10,
   "metadata": {},
   "outputs": [],
   "source": [
    "# Feature 1: Similaridade de Texto (NLP)\n",
    "vectorizer = TfidfVectorizer()\n",
    "corpus = df['texto_vaga'].tolist() + df['texto_candidato'].tolist()\n",
    "tfidf_matrix = vectorizer.fit_transform(corpus)\n",
    "vaga_vectors = tfidf_matrix[0:len(df)]\n",
    "candidato_vectors = tfidf_matrix[len(df):]\n",
    "df['similaridade_texto'] = [cosine_similarity(vaga_vectors[i], candidato_vectors[i])[0][0] for i in range(len(df))]\n",
    "\n",
    "# Features de Compatibilidade de Idioma e SAP\n",
    "mapa_niveis = {'Nenhum': 0, 'Básico': 1, 'Intermediário': 2, 'Técnico': 3, 'Avançado': 4, 'Fluente': 5}\n",
    "df['vaga_nivel_ingles_num'] = df['perfil_vaga.nivel_ingles'].fillna('Nenhum').apply(lambda x: mapa_niveis.get(x, 0))\n",
    "df['candidato_nivel_ingles_num'] = df['formacao_e_idiomas.nivel_ingles'].fillna('Nenhum').apply(lambda x: mapa_niveis.get(x, 0))\n",
    "df['match_nivel_ingles'] = (df['candidato_nivel_ingles_num'] >= df['vaga_nivel_ingles_num']).astype(int)\n",
    "df['vaga_nivel_espanhol_num'] = df['perfil_vaga.nivel_espanhol'].fillna('Nenhum').apply(lambda x: mapa_niveis.get(x, 0))\n",
    "df['candidato_nivel_espanhol_num'] = df['formacao_e_idiomas.nivel_espanhol'].fillna('Nenhum').apply(lambda x: mapa_niveis.get(x, 0))\n",
    "df['match_nivel_espanhol'] = (df['candidato_nivel_espanhol_num'] >= df['vaga_nivel_espanhol_num']).astype(int)\n",
    "df['vaga_requer_sap'] = (df['informacoes_basicas.vaga_sap'] == 'Sim').astype(int)\n",
    "df['candidato_tem_sap'] = df['texto_candidato'].str.contains('sap', flags=re.IGNORECASE, regex=True).astype(int)\n",
    "df['match_sap'] = ((df['vaga_requer_sap'] == 0) | ((df['vaga_requer_sap'] == 1) & (df['candidato_tem_sap'] == 1))).astype(int)\n",
    "\n",
    "# Feature: Match de Anos de Experiência\n",
    "def extract_years_experience(text):\n",
    "    if not isinstance(text, str): return 0\n",
    "    matches = re.findall(r'(\\d{1,2})\\s+an[o|os]', text, re.IGNORECASE)\n",
    "    years = [int(year) for year in matches]\n",
    "    return max(years) if years else 0\n",
    "df['vaga_anos_exp'] = df['texto_vaga'].apply(extract_years_experience)\n",
    "df['candidato_anos_exp'] = df['texto_candidato'].apply(extract_years_experience)\n",
    "df['match_anos_experiencia'] = (df['candidato_anos_exp'] >= df['vaga_anos_exp']).astype(int)\n",
    "\n",
    "# Feature: Score de Habilidades Técnicas\n",
    "SKILLS_LIST = [\n",
    "        'python', 'java', 'javascript', 'typescript', \"c#\", 'c++', 'php', 'ruby', 'go', 'swift', 'kotlin', 'sql', 'pl/sql',\n",
    "        'react', 'angular', 'vue', 'svelte', 'jquery', 'node.js', 'django', 'flask', 'spring', 'ruby on rails', '.net', 'laravel',\n",
    "        'aws', 'azure', 'google cloud', 'gcp', 'oracle cloud', 'oci', 'mysql', 'postgresql', 'mongodb', 'redis', 'oracle', \n",
    "        'sql server', 'dynamodb', 'docker', 'kubernetes', 'jenkins', 'git', 'github', 'gitlab', 'ansible', 'terraform', 'ci/cd',\n",
    "        'agile', 'scrum', 'kanban', 'api', 'rest', 'graphql', 'microservices', 'linux', 'unix', 'html', 'css', 'sap'\n",
    "    ]\n",
    "def calculate_skills_match(vaga_text, candidate_text):\n",
    "    required_skills = {skill for skill in SKILLS_LIST if skill in vaga_text}\n",
    "    if not required_skills:\n",
    "        return 1.0 \n",
    "    matched_skills = sum(1 for skill in required_skills if skill in candidate_text)\n",
    "    return matched_skills / len(required_skills)\n",
    "df['skills_match_score'] = df.apply(lambda row: calculate_skills_match(row['texto_vaga'], row['texto_candidato']), axis=1)\n",
    "\n",
    "# Feature: Match de Nível Profissional\n",
    "mapa_senioridade = {'júnior': 1, 'junior': 1, 'pleno': 2, 'sênior': 3, 'senior': 3, 'especialista': 4, 'analista': 2}\n",
    "def get_seniority_level(text):\n",
    "    if not isinstance(text, str): return 0\n",
    "    text = text.lower()\n",
    "    for level, value in mapa_senioridade.items():\n",
    "        if level in text:\n",
    "            return value\n",
    "    return 0\n",
    "df['vaga_nivel_prof'] = df['perfil_vaga.nivel profissional'].fillna('').apply(get_seniority_level)\n",
    "df['candidato_nivel_prof'] = df['informacoes_profissionais.nivel_profissional'].fillna('').apply(get_seniority_level)\n",
    "df['match_nivel_profissional'] = (df['candidato_nivel_prof'] >= df['vaga_nivel_prof']).astype(int)"
   ]
  },
  {
   "cell_type": "markdown",
   "metadata": {},
   "source": [
    "### Bloco 3A: Novas Features Avançadas"
   ]
  },
  {
   "cell_type": "code",
   "execution_count": 11,
   "metadata": {},
   "outputs": [],
   "source": [
    "# Feature: Match de Títulos de Cargo\n",
    "def get_title_keywords(title):\n",
    "    if not isinstance(title, str): return set()\n",
    "    # Remove palavras comuns e foca nos substantivos e adjetivos\n",
    "    stopwords = {'de', 'do', 'da', 'para', 'em', 'com'}\n",
    "    keywords = {word.lower() for word in re.split(r'\\s+|/|-', title) if word.lower() not in stopwords and len(word) > 2}\n",
    "    return keywords\n",
    "\n",
    "def calculate_title_match(vaga_title, candidate_experiences):\n",
    "    vaga_keywords = get_title_keywords(vaga_title)\n",
    "    if not vaga_keywords: return 0.0\n",
    "    \n",
    "    candidate_titles_text = \"\"\n",
    "    if isinstance(candidate_experiences, list):\n",
    "        for exp in candidate_experiences:\n",
    "            if isinstance(exp, dict) and 'cargo_atual' in exp:\n",
    "                candidate_titles_text += ' ' + str(exp['cargo_atual'])\n",
    "    \n",
    "    candidate_keywords = get_title_keywords(candidate_titles_text)\n",
    "    if not candidate_keywords: return 0.0\n",
    "    \n",
    "    intersection = len(vaga_keywords.intersection(candidate_keywords))\n",
    "    return intersection / len(vaga_keywords)\n",
    "\n",
    "df['match_titulo_cargo'] = df.apply(lambda row: calculate_title_match(row.get('informacoes_basicas.titulo_vaga'), row.get('informacoes_profissionais.experiencias')), axis=1)\n",
    "\n",
    "# Feature: Score de Soft Skills\n",
    "SOFT_SKILLS_LIST = ['comunicação', 'liderança', 'proatividade', 'negociação', 'organização', 'flexibilidade', 'criatividade', 'resolução de problemas', 'trabalho em equipe']\n",
    "def calculate_soft_skills_match(vaga_text, candidate_text):\n",
    "    required_skills = {skill for skill in SOFT_SKILLS_LIST if skill in vaga_text}\n",
    "    if not required_skills: return 1.0\n",
    "    \n",
    "    matched_skills = sum(1 for skill in required_skills if skill in candidate_text)\n",
    "    return matched_skills / len(required_skills)\n",
    "\n",
    "df['soft_skills_match_score'] = df.apply(lambda row: calculate_soft_skills_match(row['texto_vaga'], row['texto_candidato']), axis=1)"
   ]
  },
  {
   "cell_type": "markdown",
   "metadata": {},
   "source": [
    "### Bloco Final: Seleção e Salvamento"
   ]
  },
  {
   "cell_type": "code",
   "execution_count": 12,
   "metadata": {},
   "outputs": [
    {
     "name": "stdout",
     "output_type": "stream",
     "text": [
      "Arquivo 'dados_com_features.json' salvo com sucesso com as novas features!\n"
     ]
    }
   ],
   "source": [
    "features_selecionadas = [\n",
    "    'id_vaga',\n",
    "    'prospect.codigo',\n",
    "    'match',\n",
    "    'similaridade_texto',\n",
    "    'match_nivel_ingles',\n",
    "    'match_nivel_espanhol',\n",
    "    'match_sap',\n",
    "    'match_anos_experiencia',\n",
    "    'skills_match_score',\n",
    "    'match_nivel_profissional',\n",
    "    'match_titulo_cargo', # <-- Nova Feature\n",
    "    'soft_skills_match_score' # <-- Nova Feature\n",
    "]\n",
    "df_features = df[features_selecionadas]\n",
    "\n",
    "df_features.to_json('../data/processed/dados_com_features.json', orient='records', lines=True, force_ascii=False)\n",
    "print(\"Arquivo 'dados_com_features.json' salvo com sucesso com as novas features!\")"
   ]
  }
 ],
 "metadata": {
  "kernelspec": {
   "display_name": "base",
   "language": "python",
   "name": "python3"
  },
  "language_info": {
   "codemirror_mode": {
    "name": "ipython",
    "version": 3
   },
   "file_extension": ".py",
   "mimetype": "text/x-python",
   "name": "python",
   "nbconvert_exporter": "python",
   "pygments_lexer": "ipython3",
   "version": "3.12.7"
  }
 },
 "nbformat": 4,
 "nbformat_minor": 4
}
